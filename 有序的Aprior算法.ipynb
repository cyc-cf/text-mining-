{
 "cells": [
  {
   "cell_type": "code",
   "execution_count": 1,
   "metadata": {},
   "outputs": [],
   "source": [
    "import pandas as pd\n",
    "import numpy as np"
   ]
  },
  {
   "cell_type": "code",
   "execution_count": 24,
   "metadata": {},
   "outputs": [],
   "source": [
    "data = [[1,3,4],[2,3,5],[1,2,3,5],[2,5],[1,2],[1,2,3],[2,1],[2,1]]"
   ]
  },
  {
   "cell_type": "code",
   "execution_count": 3,
   "metadata": {},
   "outputs": [
    {
     "data": {
      "text/plain": [
       "[[1], [2], [3], [4], [5]]"
      ]
     },
     "execution_count": 3,
     "metadata": {},
     "output_type": "execute_result"
    }
   ],
   "source": [
    "[[i] for i in np.unique(np.concatenate(data).ravel())]"
   ]
  },
  {
   "cell_type": "code",
   "execution_count": 4,
   "metadata": {},
   "outputs": [
    {
     "data": {
      "text/plain": [
       "[[1], [2], [3], [4], [5]]"
      ]
     },
     "execution_count": 4,
     "metadata": {},
     "output_type": "execute_result"
    }
   ],
   "source": [
    "#第一候选项集\n",
    "C1 =[[i] for i in np.unique(np.concatenate(data).ravel())]\n",
    "C1"
   ]
  },
  {
   "cell_type": "code",
   "execution_count": 5,
   "metadata": {},
   "outputs": [
    {
     "ename": "SyntaxError",
     "evalue": "unexpected EOF while parsing (<ipython-input-5-6b0090a34434>, line 9)",
     "output_type": "error",
     "traceback": [
      "\u001b[1;36m  File \u001b[1;32m\"<ipython-input-5-6b0090a34434>\"\u001b[1;36m, line \u001b[1;32m9\u001b[0m\n\u001b[1;33m    \u001b[0m\n\u001b[1;37m    ^\u001b[0m\n\u001b[1;31mSyntaxError\u001b[0m\u001b[1;31m:\u001b[0m unexpected EOF while parsing\n"
     ]
    }
   ],
   "source": [
    "#候选项集产生频繁项集，判断支持度大于最小支持度\n",
    "ck=[]     # 候选项集\n",
    "freq_transaction=[] #频繁项集\n",
    "num = float(len(data))\n",
    "for transaction in dataset:\n",
    "    C1 \n",
    "min_support = 0.01\n",
    "if support_data>=min_supprt:\n",
    "    "
   ]
  },
  {
   "cell_type": "code",
   "execution_count": 6,
   "metadata": {},
   "outputs": [],
   "source": [
    "c=[1,2]\n",
    "d = [[1,2],[2,3],[3,4]]\n"
   ]
  },
  {
   "cell_type": "code",
   "execution_count": 7,
   "metadata": {},
   "outputs": [],
   "source": [
    "#频繁项集生成候选项集，自连接+剪枝\n"
   ]
  },
  {
   "cell_type": "code",
   "execution_count": 8,
   "metadata": {},
   "outputs": [],
   "source": [
    "def createC1(dataSet):\n",
    "    C1 = [[i] for i in np.unique(np.concatenate(data).ravel())]\n",
    "    return C1"
   ]
  },
  {
   "cell_type": "code",
   "execution_count": 28,
   "metadata": {},
   "outputs": [
    {
     "data": {
      "text/plain": [
       "[[1], [2], [3], [4], [5]]"
      ]
     },
     "execution_count": 28,
     "metadata": {},
     "output_type": "execute_result"
    }
   ],
   "source": [
    "base = createC1(data)\n",
    "base"
   ]
  },
  {
   "cell_type": "code",
   "execution_count": 10,
   "metadata": {},
   "outputs": [],
   "source": [
    "def inn(ls,items):\n",
    "    N = len(items)\n",
    "    flag = 0\n",
    "    for i in range(2 ** N):\n",
    "        combo = []\n",
    "        for j in range(N):\n",
    "            if (i >> j) % 2 :\n",
    "                combo.append(items[j])\n",
    "        if ls == combo:\n",
    "            flag += 1\n",
    "        else:\n",
    "            flag += 0\n",
    "        print(combo)\n",
    "            \n",
    "    if flag > 0:\n",
    "        return True\n",
    "    else:\n",
    "        return False"
   ]
  },
  {
   "cell_type": "code",
   "execution_count": 11,
   "metadata": {},
   "outputs": [
    {
     "name": "stdout",
     "output_type": "stream",
     "text": [
      "[]\n",
      "[1]\n",
      "[3]\n",
      "[1, 3]\n",
      "[2]\n",
      "[1, 2]\n",
      "[3, 2]\n",
      "[1, 3, 2]\n"
     ]
    },
    {
     "data": {
      "text/plain": [
       "True"
      ]
     },
     "execution_count": 11,
     "metadata": {},
     "output_type": "execute_result"
    }
   ],
   "source": [
    "inn([1,2],[1,3,2])"
   ]
  },
  {
   "cell_type": "code",
   "execution_count": 12,
   "metadata": {},
   "outputs": [
    {
     "name": "stdout",
     "output_type": "stream",
     "text": [
      "[]\n",
      "[2]\n",
      "[1]\n",
      "[2, 1]\n",
      "[3]\n",
      "[2, 3]\n",
      "[1, 3]\n",
      "[2, 1, 3]\n"
     ]
    },
    {
     "data": {
      "text/plain": [
       "False"
      ]
     },
     "execution_count": 12,
     "metadata": {},
     "output_type": "execute_result"
    }
   ],
   "source": [
    "inn([1,2],[2,1,3])"
   ]
  },
  {
   "cell_type": "code",
   "execution_count": 13,
   "metadata": {},
   "outputs": [
    {
     "name": "stdout",
     "output_type": "stream",
     "text": [
      "[]\n",
      "['a']\n",
      "['c']\n",
      "['a', 'c']\n",
      "['b']\n",
      "['a', 'b']\n",
      "['c', 'b']\n",
      "['a', 'c', 'b']\n"
     ]
    },
    {
     "data": {
      "text/plain": [
       "True"
      ]
     },
     "execution_count": 13,
     "metadata": {},
     "output_type": "execute_result"
    }
   ],
   "source": [
    "inn(['a','b'],['a','c','b'])"
   ]
  },
  {
   "cell_type": "code",
   "execution_count": 14,
   "metadata": {},
   "outputs": [
    {
     "name": "stdout",
     "output_type": "stream",
     "text": [
      "[[], [1], [2], [1, 2], [3], [1, 3], [2, 3], [1, 2, 3], [4], [1, 4], [2, 4], [1, 2, 4], [3, 4], [1, 3, 4], [2, 3, 4], [1, 2, 3, 4]]\n"
     ]
    }
   ],
   "source": [
    "def getArraySubSet(originArray):\n",
    "    \"\"\"\n",
    "    :type originArray:list\n",
    "    :rtype :listlist\n",
    "    \"\"\"\n",
    "    result = [[]]\n",
    "    size = len(originArray)\n",
    "    for i in range(size):\n",
    "        for j in range(len(result)):\n",
    "            # 现有每个子集中添加新元素，作为新子集加入结果集中\n",
    "            result.append(result[j]+[originArray[i]])\n",
    "        # print(result)\n",
    "    return result\n",
    "\n",
    "\n",
    "# 测试\n",
    "originArray = [1, 2, 3, 4]\n",
    "subset = getArraySubSet(originArray)\n",
    "print(subset)"
   ]
  },
  {
   "cell_type": "code",
   "execution_count": 17,
   "metadata": {},
   "outputs": [],
   "source": [
    "import collections\n",
    "import itertools\n",
    "def scan(data,base,min_support):\n",
    "    ls = []\n",
    "    for i in range(1,len(base)+1):\n",
    "        it = itertools.permutations(base,i)\n",
    "        for j in it:\n",
    "            ls.append(list(j))\n",
    "            \n",
    "    num = float(len(data))\n",
    "        \n",
    "    dic = {}\n",
    "    for i in base:\n",
    "        for j in data:\n",
    "            if inn(i,j):\n",
    "                dic[str(i)] = dic.get(str(i),0) + 1\n",
    "    \n",
    "    dic_support = {}\n",
    "    for i in base:\n",
    "        for key,value in dic.items():\n",
    "            dic_support[key] = dic[key]/num\n",
    "        \n",
    "    return dic_support"
   ]
  },
  {
   "cell_type": "code",
   "execution_count": 39,
   "metadata": {},
   "outputs": [
    {
     "name": "stdout",
     "output_type": "stream",
     "text": [
      "[]\n",
      "[1]\n",
      "[3]\n",
      "[1, 3]\n",
      "[4]\n",
      "[1, 4]\n",
      "[3, 4]\n",
      "[1, 3, 4]\n",
      "[]\n",
      "[2]\n",
      "[3]\n",
      "[2, 3]\n",
      "[5]\n",
      "[2, 5]\n",
      "[3, 5]\n",
      "[2, 3, 5]\n",
      "[]\n",
      "[1]\n",
      "[2]\n",
      "[1, 2]\n",
      "[3]\n",
      "[1, 3]\n",
      "[2, 3]\n",
      "[1, 2, 3]\n",
      "[5]\n",
      "[1, 5]\n",
      "[2, 5]\n",
      "[1, 2, 5]\n",
      "[3, 5]\n",
      "[1, 3, 5]\n",
      "[2, 3, 5]\n",
      "[1, 2, 3, 5]\n",
      "[]\n",
      "[2]\n",
      "[5]\n",
      "[2, 5]\n",
      "[]\n",
      "[1]\n",
      "[2]\n",
      "[1, 2]\n",
      "[]\n",
      "[1]\n",
      "[2]\n",
      "[1, 2]\n",
      "[3]\n",
      "[1, 3]\n",
      "[2, 3]\n",
      "[1, 2, 3]\n",
      "[]\n",
      "[2]\n",
      "[1]\n",
      "[2, 1]\n",
      "[]\n",
      "[2]\n",
      "[1]\n",
      "[2, 1]\n",
      "[]\n",
      "[1]\n",
      "[3]\n",
      "[1, 3]\n",
      "[4]\n",
      "[1, 4]\n",
      "[3, 4]\n",
      "[1, 3, 4]\n",
      "[]\n",
      "[2]\n",
      "[3]\n",
      "[2, 3]\n",
      "[5]\n",
      "[2, 5]\n",
      "[3, 5]\n",
      "[2, 3, 5]\n",
      "[]\n",
      "[1]\n",
      "[2]\n",
      "[1, 2]\n",
      "[3]\n",
      "[1, 3]\n",
      "[2, 3]\n",
      "[1, 2, 3]\n",
      "[5]\n",
      "[1, 5]\n",
      "[2, 5]\n",
      "[1, 2, 5]\n",
      "[3, 5]\n",
      "[1, 3, 5]\n",
      "[2, 3, 5]\n",
      "[1, 2, 3, 5]\n",
      "[]\n",
      "[2]\n",
      "[5]\n",
      "[2, 5]\n",
      "[]\n",
      "[1]\n",
      "[2]\n",
      "[1, 2]\n",
      "[]\n",
      "[1]\n",
      "[2]\n",
      "[1, 2]\n",
      "[3]\n",
      "[1, 3]\n",
      "[2, 3]\n",
      "[1, 2, 3]\n",
      "[]\n",
      "[2]\n",
      "[1]\n",
      "[2, 1]\n",
      "[]\n",
      "[2]\n",
      "[1]\n",
      "[2, 1]\n",
      "[]\n",
      "[1]\n",
      "[3]\n",
      "[1, 3]\n",
      "[4]\n",
      "[1, 4]\n",
      "[3, 4]\n",
      "[1, 3, 4]\n",
      "[]\n",
      "[2]\n",
      "[3]\n",
      "[2, 3]\n",
      "[5]\n",
      "[2, 5]\n",
      "[3, 5]\n",
      "[2, 3, 5]\n",
      "[]\n",
      "[1]\n",
      "[2]\n",
      "[1, 2]\n",
      "[3]\n",
      "[1, 3]\n",
      "[2, 3]\n",
      "[1, 2, 3]\n",
      "[5]\n",
      "[1, 5]\n",
      "[2, 5]\n",
      "[1, 2, 5]\n",
      "[3, 5]\n",
      "[1, 3, 5]\n",
      "[2, 3, 5]\n",
      "[1, 2, 3, 5]\n",
      "[]\n",
      "[2]\n",
      "[5]\n",
      "[2, 5]\n",
      "[]\n",
      "[1]\n",
      "[2]\n",
      "[1, 2]\n",
      "[]\n",
      "[1]\n",
      "[2]\n",
      "[1, 2]\n",
      "[3]\n",
      "[1, 3]\n",
      "[2, 3]\n",
      "[1, 2, 3]\n",
      "[]\n",
      "[2]\n",
      "[1]\n",
      "[2, 1]\n",
      "[]\n",
      "[2]\n",
      "[1]\n",
      "[2, 1]\n",
      "[]\n",
      "[1]\n",
      "[3]\n",
      "[1, 3]\n",
      "[4]\n",
      "[1, 4]\n",
      "[3, 4]\n",
      "[1, 3, 4]\n",
      "[]\n",
      "[2]\n",
      "[3]\n",
      "[2, 3]\n",
      "[5]\n",
      "[2, 5]\n",
      "[3, 5]\n",
      "[2, 3, 5]\n",
      "[]\n",
      "[1]\n",
      "[2]\n",
      "[1, 2]\n",
      "[3]\n",
      "[1, 3]\n",
      "[2, 3]\n",
      "[1, 2, 3]\n",
      "[5]\n",
      "[1, 5]\n",
      "[2, 5]\n",
      "[1, 2, 5]\n",
      "[3, 5]\n",
      "[1, 3, 5]\n",
      "[2, 3, 5]\n",
      "[1, 2, 3, 5]\n",
      "[]\n",
      "[2]\n",
      "[5]\n",
      "[2, 5]\n",
      "[]\n",
      "[1]\n",
      "[2]\n",
      "[1, 2]\n",
      "[]\n",
      "[1]\n",
      "[2]\n",
      "[1, 2]\n",
      "[3]\n",
      "[1, 3]\n",
      "[2, 3]\n",
      "[1, 2, 3]\n",
      "[]\n",
      "[2]\n",
      "[1]\n",
      "[2, 1]\n",
      "[]\n",
      "[2]\n",
      "[1]\n",
      "[2, 1]\n",
      "[]\n",
      "[1]\n",
      "[3]\n",
      "[1, 3]\n",
      "[4]\n",
      "[1, 4]\n",
      "[3, 4]\n",
      "[1, 3, 4]\n",
      "[]\n",
      "[2]\n",
      "[3]\n",
      "[2, 3]\n",
      "[5]\n",
      "[2, 5]\n",
      "[3, 5]\n",
      "[2, 3, 5]\n",
      "[]\n",
      "[1]\n",
      "[2]\n",
      "[1, 2]\n",
      "[3]\n",
      "[1, 3]\n",
      "[2, 3]\n",
      "[1, 2, 3]\n",
      "[5]\n",
      "[1, 5]\n",
      "[2, 5]\n",
      "[1, 2, 5]\n",
      "[3, 5]\n",
      "[1, 3, 5]\n",
      "[2, 3, 5]\n",
      "[1, 2, 3, 5]\n",
      "[]\n",
      "[2]\n",
      "[5]\n",
      "[2, 5]\n",
      "[]\n",
      "[1]\n",
      "[2]\n",
      "[1, 2]\n",
      "[]\n",
      "[1]\n",
      "[2]\n",
      "[1, 2]\n",
      "[3]\n",
      "[1, 3]\n",
      "[2, 3]\n",
      "[1, 2, 3]\n",
      "[]\n",
      "[2]\n",
      "[1]\n",
      "[2, 1]\n",
      "[]\n",
      "[2]\n",
      "[1]\n",
      "[2, 1]\n"
     ]
    },
    {
     "data": {
      "text/plain": [
       "({'[1]': 0.75, '[2]': 0.875, '[3]': 0.5, '[4]': 0.125, '[5]': 0.375},\n",
       " ['[1]',\n",
       "  '[2]',\n",
       "  '[3]',\n",
       "  '[4]',\n",
       "  '[5]',\n",
       "  '[1]',\n",
       "  '[2]',\n",
       "  '[3]',\n",
       "  '[4]',\n",
       "  '[5]',\n",
       "  '[1]',\n",
       "  '[2]',\n",
       "  '[3]',\n",
       "  '[4]',\n",
       "  '[5]',\n",
       "  '[1]',\n",
       "  '[2]',\n",
       "  '[3]',\n",
       "  '[4]',\n",
       "  '[5]',\n",
       "  '[1]',\n",
       "  '[2]',\n",
       "  '[3]',\n",
       "  '[4]',\n",
       "  '[5]'])"
      ]
     },
     "execution_count": 39,
     "metadata": {},
     "output_type": "execute_result"
    }
   ],
   "source": [
    "scan(data,base,0)"
   ]
  },
  {
   "cell_type": "code",
   "execution_count": 392,
   "metadata": {},
   "outputs": [],
   "source": [
    "import collections\n",
    "\n",
    "def scan(data,base,min_support):\n",
    "    ls = []\n",
    "    for i in range(1,len(base)+1):\n",
    "        it = itertools.permutations(base,i)\n",
    "        for j in it:\n",
    "            ls.append(list(j))\n",
    "            \n",
    "    num = float(len(data))\n",
    "        \n",
    "    dic = {}\n",
    "    for i in itertools.permutations(base,1):\n",
    "        for j in data:\n",
    "            if inn(i[0],j):\n",
    "                dic[str(i[0])] = dic.get(str(i[0]),0) + 1\n",
    "                \n",
    "#     for i in base:\n",
    "#         for j in data:\n",
    "#             if inn(i,j):\n",
    "#                 dic[str(i)] = dic.get(str(i),0) + 1\n",
    "    \n",
    "    dic_support = {}\n",
    "    for i in base:\n",
    "        for key,value in dic.items():\n",
    "            dic_support[key] = dic[key]/num\n",
    "        \n",
    "    return dic_support"
   ]
  },
  {
   "cell_type": "code",
   "execution_count": 400,
   "metadata": {
    "collapsed": true
   },
   "outputs": [
    {
     "data": {
      "text/plain": [
       "['([1], [2])',\n",
       " '([1], [3])',\n",
       " '([1], [4])',\n",
       " '([1], [5])',\n",
       " '([2], [1])',\n",
       " '([2], [3])',\n",
       " '([2], [4])',\n",
       " '([2], [5])',\n",
       " '([3], [1])',\n",
       " '([3], [2])',\n",
       " '([3], [4])',\n",
       " '([3], [5])',\n",
       " '([4], [1])',\n",
       " '([4], [2])',\n",
       " '([4], [3])',\n",
       " '([4], [5])',\n",
       " '([5], [1])',\n",
       " '([5], [2])',\n",
       " '([5], [3])',\n",
       " '([5], [4])']"
      ]
     },
     "execution_count": 400,
     "metadata": {},
     "output_type": "execute_result"
    }
   ],
   "source": [
    "[str(item) for item in itertools.permutations(base,2)]"
   ]
  },
  {
   "cell_type": "code",
   "execution_count": 393,
   "metadata": {},
   "outputs": [
    {
     "data": {
      "text/plain": [
       "{'[1]': 0.75, '[2]': 0.875, '[3]': 0.5, '[4]': 0.125, '[5]': 0.375}"
      ]
     },
     "execution_count": 393,
     "metadata": {},
     "output_type": "execute_result"
    }
   ],
   "source": [
    "scan(data,base,0)"
   ]
  },
  {
   "cell_type": "code",
   "execution_count": 415,
   "metadata": {
    "scrolled": true
   },
   "outputs": [
    {
     "data": {
      "text/plain": [
       "[[1], [2], [3], [4], [5]]"
      ]
     },
     "execution_count": 415,
     "metadata": {},
     "output_type": "execute_result"
    }
   ],
   "source": []
  },
  {
   "cell_type": "code",
   "execution_count": 38,
   "metadata": {},
   "outputs": [
    {
     "data": {
      "text/plain": [
       "[[1], [2], [3], [4], [5]]"
      ]
     },
     "execution_count": 38,
     "metadata": {},
     "output_type": "execute_result"
    }
   ],
   "source": [
    "C1 =[item[0] for item in itertools.permutations(base,1)]\n",
    "C1"
   ]
  },
  {
   "cell_type": "code",
   "execution_count": 420,
   "metadata": {
    "collapsed": true
   },
   "outputs": [
    {
     "data": {
      "text/plain": [
       "[[12],\n",
       " [13],\n",
       " [14],\n",
       " [15],\n",
       " [21],\n",
       " [23],\n",
       " [24],\n",
       " [25],\n",
       " [31],\n",
       " [32],\n",
       " [34],\n",
       " [35],\n",
       " [41],\n",
       " [42],\n",
       " [43],\n",
       " [45],\n",
       " [51],\n",
       " [52],\n",
       " [53],\n",
       " [54]]"
      ]
     },
     "execution_count": 420,
     "metadata": {},
     "output_type": "execute_result"
    }
   ],
   "source": [
    "C2 = [[int(i)] for i in \",\".join([str(item[0][0])+str(item[1][0]) for item in itertools.permutations(base,2)]).split(\",\")]\n",
    "C2"
   ]
  },
  {
   "cell_type": "code",
   "execution_count": 428,
   "metadata": {
    "collapsed": true
   },
   "outputs": [
    {
     "data": {
      "text/plain": [
       "[[123],\n",
       " [124],\n",
       " [125],\n",
       " [132],\n",
       " [134],\n",
       " [135],\n",
       " [142],\n",
       " [143],\n",
       " [145],\n",
       " [152],\n",
       " [153],\n",
       " [154],\n",
       " [213],\n",
       " [214],\n",
       " [215],\n",
       " [231],\n",
       " [234],\n",
       " [235],\n",
       " [241],\n",
       " [243],\n",
       " [245],\n",
       " [251],\n",
       " [253],\n",
       " [254],\n",
       " [312],\n",
       " [314],\n",
       " [315],\n",
       " [321],\n",
       " [324],\n",
       " [325],\n",
       " [341],\n",
       " [342],\n",
       " [345],\n",
       " [351],\n",
       " [352],\n",
       " [354],\n",
       " [412],\n",
       " [413],\n",
       " [415],\n",
       " [421],\n",
       " [423],\n",
       " [425],\n",
       " [431],\n",
       " [432],\n",
       " [435],\n",
       " [451],\n",
       " [452],\n",
       " [453],\n",
       " [512],\n",
       " [513],\n",
       " [514],\n",
       " [521],\n",
       " [523],\n",
       " [524],\n",
       " [531],\n",
       " [532],\n",
       " [534],\n",
       " [541],\n",
       " [542],\n",
       " [543]]"
      ]
     },
     "execution_count": 428,
     "metadata": {},
     "output_type": "execute_result"
    }
   ],
   "source": [
    "C3 =[[int(i)] for i in \",\".join([str(item[0][0])+str(item[1][0])+str(item[2][0]) for item in itertools.permutations(base,3)]).split(\",\")]\n",
    "C3"
   ]
  },
  {
   "cell_type": "code",
   "execution_count": 106,
   "metadata": {},
   "outputs": [
    {
     "data": {
      "text/plain": [
       "False"
      ]
     },
     "execution_count": 106,
     "metadata": {},
     "output_type": "execute_result"
    }
   ],
   "source": [
    "(5, 4, 3, 2, 1) == (1, 2, 3, 4, 5)"
   ]
  },
  {
   "cell_type": "code",
   "execution_count": 36,
   "metadata": {},
   "outputs": [
    {
     "data": {
      "text/plain": [
       "[[1, 3, 4], [2, 3, 5], [1, 2, 3, 5], [2, 5], [1, 2], [1, 2, 3], [2, 1], [2, 1]]"
      ]
     },
     "execution_count": 36,
     "metadata": {},
     "output_type": "execute_result"
    }
   ],
   "source": [
    "[item[0] for item in itertools.permutations(data,1)]"
   ]
  },
  {
   "cell_type": "code",
   "execution_count": null,
   "metadata": {},
   "outputs": [],
   "source": []
  }
 ],
 "metadata": {
  "kernelspec": {
   "display_name": "Python 3",
   "language": "python",
   "name": "python3"
  },
  "language_info": {
   "codemirror_mode": {
    "name": "ipython",
    "version": 3
   },
   "file_extension": ".py",
   "mimetype": "text/x-python",
   "name": "python",
   "nbconvert_exporter": "python",
   "pygments_lexer": "ipython3",
   "version": "3.8.5"
  }
 },
 "nbformat": 4,
 "nbformat_minor": 4
}
