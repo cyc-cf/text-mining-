{
 "cells": [
  {
   "cell_type": "code",
   "execution_count": 135,
   "metadata": {},
   "outputs": [],
   "source": [
    "import pandas as pd\n",
    "import collections\n",
    "import numpy as np\n",
    "import itertools"
   ]
  },
  {
   "cell_type": "code",
   "execution_count": 136,
   "metadata": {},
   "outputs": [],
   "source": [
    "#data = [[1, 3, 4], [2, 3, 5], [1, 2, 3, 5], [2, 1], [1, 2, 3]]\n",
    "data = [[1, 3, 4],[2, 3, 5],[1, 2, 3, 5],[2, 1],[1, 2, 3],[2,1,3]]"
   ]
  },
  {
   "cell_type": "code",
   "execution_count": 137,
   "metadata": {},
   "outputs": [],
   "source": [
    "C1=[[i] for i in np.unique(np.concatenate(data).ravel())]"
   ]
  },
  {
   "cell_type": "code",
   "execution_count": 138,
   "metadata": {},
   "outputs": [],
   "source": [
    "#第一候选项集\n",
    "def createC1(data):\n",
    "    C1 = [[i] for i in np.unique(np.concatenate(data).ravel())]\n",
    "    return C1"
   ]
  },
  {
   "cell_type": "code",
   "execution_count": 139,
   "metadata": {},
   "outputs": [],
   "source": [
    "#计算支持度,元素大于等于2个\n",
    "def scan(data,base,minSupport):# 遍历所有候选项集\n",
    "#     ls = []\n",
    "#     for i in range(1,len(base)+1):\n",
    "#         it = itertools.permutations(base,i)\n",
    "#         for j in it:\n",
    "#             ls.append(list(j)) \n",
    "    num = float(len(data))             \n",
    "    dic = {}#候选项集\n",
    "    retList = []#频繁项集\n",
    "    for i in ck():  # 遍历所有候选项集\n",
    "        for j in data:\n",
    "            if inn(i,j):\n",
    "                dic[str(i)] = dic.get(str(i),0) + 1 #出现的个数\n",
    "    dic_support = {}\n",
    "#    for i in base:\n",
    "    for key,value in dic.items():\n",
    "        dic_support[key] = dic[key]/num\n",
    "        if dic_support[key]>= minSupport:\n",
    "            retList.append(key)\n",
    "        else:\n",
    "            dic_support.pop(key)\n",
    "    return retList,dic_support"
   ]
  },
  {
   "cell_type": "code",
   "execution_count": 140,
   "metadata": {
    "scrolled": true
   },
   "outputs": [],
   "source": [
    "#生成所有候选项集(有序的)\n",
    "def ck():\n",
    "    item =[]\n",
    "    for k in range(1,9):\n",
    "        if k==1:\n",
    "            item.extend([item[0] for item in itertools.permutations(C1,1)])\n",
    "        elif k==2:\n",
    "            item.extend([item[0]+item[1] for item in itertools.permutations(C1,2)])\n",
    "        elif k==3:\n",
    "            item.extend([item[0]+item[1]+item[2] for item in itertools.permutations(C1,3)])\n",
    "        elif k==4: \n",
    "            item.extend([item[0]+item[1]+item[2]+item[3] for item in itertools.permutations(C1,4)])   \n",
    "        elif k== 5:\n",
    "            item.extend([item[0]+item[1]+item[2]+item[3]+item[4] for item in itertools.permutations(C1,5)]) \n",
    "        elif k == 6:\n",
    "            item.extend([item[0]+item[1]+item[2]+item[3]+item[4]+item[5] for item in itertools.permutations(C1,6)]) \n",
    "        elif k == 7:\n",
    "            item.extend([item[0]+item[1]+item[2]+item[3]+item[4]+item[5]+item[6] for item in itertools.permutations(C1,7)]) \n",
    "        elif k == 8:\n",
    "            item.extend([item[0]+item[1]+item[2]+item[3]+item[4]+item[5]+item[6]+item[7] for item in itertools.permutations(C1,8)])    \n",
    "    return item"
   ]
  },
  {
   "cell_type": "code",
   "execution_count": 141,
   "metadata": {},
   "outputs": [],
   "source": [
    "#判断候选项集是数据集的子集\n",
    "def inn(ck,ls):\n",
    "    #ck候选项集\n",
    "    #ls  dataset的集合,eg: ls=[1,3,4]、ls=[2,3,5]、ls=[1,2,3,5]...\n",
    "    N = len(ls)#子集的长度\n",
    "    flag = 0\n",
    "    for i in range(2 ** N): #所有的排列组合结果,不应该是N！？？\n",
    "        combo = []\n",
    "        for j in range(N):\n",
    "            if (i >> j) % 2 :   #i右移j位，取余数\n",
    "                combo.append(ls[j])\n",
    "        if ck == combo:\n",
    "            flag += 1\n",
    "        else:\n",
    "            flag += 0\n",
    "    if flag > 0:\n",
    "        return True\n",
    "    else:\n",
    "        return False"
   ]
  },
  {
   "cell_type": "code",
   "execution_count": 142,
   "metadata": {},
   "outputs": [],
   "source": [
    "#得到所有的频繁项集和支持度\n",
    "def apriori(D):\n",
    "#   C1 = createC1(D)#生成候选1-项集\n",
    "    L = [] #存放频繁项集\n",
    "    supportData={}\n",
    "    Lk, supK = scan(data,base,minSupport=0.03)#得到频繁项及和支持度\n",
    "    supportData.update(supK)\n",
    "    L.append(Lk)\n",
    "    return L,supportData"
   ]
  },
  {
   "cell_type": "code",
   "execution_count": 143,
   "metadata": {},
   "outputs": [
    {
     "data": {
      "text/plain": [
       "[['[1]',\n",
       "  '[2]',\n",
       "  '[3]',\n",
       "  '[4]',\n",
       "  '[5]',\n",
       "  '[1, 2]',\n",
       "  '[1, 3]',\n",
       "  '[1, 4]',\n",
       "  '[1, 5]',\n",
       "  '[2, 1]',\n",
       "  '[2, 3]',\n",
       "  '[2, 5]',\n",
       "  '[3, 4]',\n",
       "  '[3, 5]',\n",
       "  '[1, 2, 3]',\n",
       "  '[1, 2, 5]',\n",
       "  '[1, 3, 4]',\n",
       "  '[1, 3, 5]',\n",
       "  '[2, 1, 3]',\n",
       "  '[2, 3, 5]',\n",
       "  '[1, 2, 3, 5]']]"
      ]
     },
     "execution_count": 143,
     "metadata": {},
     "output_type": "execute_result"
    }
   ],
   "source": [
    "L=apriori(data)[0]\n",
    "L"
   ]
  },
  {
   "cell_type": "code",
   "execution_count": 144,
   "metadata": {},
   "outputs": [
    {
     "data": {
      "text/plain": [
       "{'[1]': 0.8333333333333334,\n",
       " '[2]': 0.8333333333333334,\n",
       " '[3]': 0.8333333333333334,\n",
       " '[4]': 0.16666666666666666,\n",
       " '[5]': 0.3333333333333333,\n",
       " '[1, 2]': 0.3333333333333333,\n",
       " '[1, 3]': 0.6666666666666666,\n",
       " '[1, 4]': 0.16666666666666666,\n",
       " '[1, 5]': 0.16666666666666666,\n",
       " '[2, 1]': 0.3333333333333333,\n",
       " '[2, 3]': 0.6666666666666666,\n",
       " '[2, 5]': 0.3333333333333333,\n",
       " '[3, 4]': 0.16666666666666666,\n",
       " '[3, 5]': 0.3333333333333333,\n",
       " '[1, 2, 3]': 0.3333333333333333,\n",
       " '[1, 2, 5]': 0.16666666666666666,\n",
       " '[1, 3, 4]': 0.16666666666666666,\n",
       " '[1, 3, 5]': 0.16666666666666666,\n",
       " '[2, 1, 3]': 0.16666666666666666,\n",
       " '[2, 3, 5]': 0.3333333333333333,\n",
       " '[1, 2, 3, 5]': 0.16666666666666666}"
      ]
     },
     "execution_count": 144,
     "metadata": {},
     "output_type": "execute_result"
    }
   ],
   "source": [
    "supportData=apriori(data)[1]\n",
    "supportData"
   ]
  },
  {
   "cell_type": "code",
   "execution_count": 515,
   "metadata": {},
   "outputs": [],
   "source": [
    "data = [[1, 3, 4],[2, 3, 5],[1, 2, 3, 5],[2, 1],[1, 2, 3],[2,1,3]]"
   ]
  },
  {
   "cell_type": "code",
   "execution_count": 10,
   "metadata": {},
   "outputs": [
    {
     "data": {
      "text/plain": [
       "[[1], [2], [3], [4], [5]]"
      ]
     },
     "execution_count": 10,
     "metadata": {},
     "output_type": "execute_result"
    }
   ],
   "source": [
    "C1=[[i] for i in np.unique(np.concatenate(data).ravel())]\n",
    "base=C1\n",
    "base"
   ]
  },
  {
   "cell_type": "code",
   "execution_count": 12,
   "metadata": {},
   "outputs": [],
   "source": [
    "freqSet=[1,2,3]\n",
    "conseq=[2]"
   ]
  },
  {
   "cell_type": "code",
   "execution_count": 13,
   "metadata": {},
   "outputs": [
    {
     "data": {
      "text/plain": [
       "'[1, 2, 3]'"
      ]
     },
     "execution_count": 13,
     "metadata": {},
     "output_type": "execute_result"
    }
   ],
   "source": [
    "str(freqSet)"
   ]
  },
  {
   "cell_type": "code",
   "execution_count": null,
   "metadata": {},
   "outputs": [],
   "source": []
  },
  {
   "cell_type": "code",
   "execution_count": 15,
   "metadata": {},
   "outputs": [],
   "source": [
    "freqSet=[4,1]"
   ]
  },
  {
   "cell_type": "code",
   "execution_count": 520,
   "metadata": {},
   "outputs": [
    {
     "data": {
      "text/plain": [
       "0.3333333333333333"
      ]
     },
     "execution_count": 520,
     "metadata": {},
     "output_type": "execute_result"
    }
   ],
   "source": [
    "apriori(data)[1][str(freqSet)]"
   ]
  },
  {
   "cell_type": "code",
   "execution_count": 521,
   "metadata": {},
   "outputs": [
    {
     "data": {
      "text/plain": [
       "0.6"
      ]
     },
     "execution_count": 521,
     "metadata": {},
     "output_type": "execute_result"
    }
   ],
   "source": [
    "supportData[str(list(frozenset(freqSet)-frozenset(conseq)))]"
   ]
  },
  {
   "cell_type": "code",
   "execution_count": 522,
   "metadata": {},
   "outputs": [
    {
     "data": {
      "text/plain": [
       "[1, 3]"
      ]
     },
     "execution_count": 522,
     "metadata": {},
     "output_type": "execute_result"
    }
   ],
   "source": [
    "list(frozenset(freqSet)-frozenset(conseq))"
   ]
  },
  {
   "cell_type": "code",
   "execution_count": 566,
   "metadata": {},
   "outputs": [],
   "source": [
    "# #生成关联规则，满足最小置信度\n",
    "# def calcConf(freqSet, H, supportData, brl, minConf):\n",
    "#     supportData = apriori(data)[1]\n",
    "#     prunedH = [] #放置置信度过滤后的可以出现在规则右部的元素列表\n",
    "#     for conseq in H: #对关联规则右部元素列表进行循环\n",
    "#         if len(list(frozenset(freqSet)-frozenset(conseq)))!=0:\n",
    "#             conf = supportData[str(freqSet)]/supportData[str(list(frozenset(freqSet)-frozenset(conseq)))] #计算规则的置信度\n",
    "# #            if str(freqSet)\n",
    "#             if conf >= minConf: #判断置信度是否满足最小置信度的要求\n",
    "#                 print(str(list(frozenset(freqSet)-frozenset(conseq))),'-->',conseq,'\\n',\n",
    "#                       'together support:',round(supportData[str(freqSet)],3),',',\n",
    "#                       'conf:',round(conf,3)) #打印强关联规则\n",
    "#                 brl.append(((str(list(frozenset(freqSet)-frozenset(conseq)))),conseq,round(supportData[str(freqSet)],3),round(conf,3))) #把强关联规则追加到 brl\n",
    "#                 prunedH.append(conseq) #将经过置信度过滤的元素，放入prunedH\n",
    "#     return prunedH "
   ]
  },
  {
   "cell_type": "code",
   "execution_count": 617,
   "metadata": {},
   "outputs": [
    {
     "data": {
      "text/plain": [
       "5"
      ]
     },
     "execution_count": 617,
     "metadata": {},
     "output_type": "execute_result"
    }
   ],
   "source": [
    "dic={} #候选项集\n",
    "for i in ck():  # 遍历所有候选项集\n",
    "    for j in data: #原始数据集得每一条\n",
    "        if inn(i,j):\n",
    "            dic[str(i)] = dic.get(str(i),0) + 1           "
   ]
  },
  {
   "cell_type": "code",
   "execution_count": 16,
   "metadata": {},
   "outputs": [],
   "source": [
    "def calcConf(H, supportData, brl, minConf):\n",
    "    dic={} #候选项集\n",
    "    supportData=scan(data,base,0.02)[1]\n",
    "    for i in ck():  # 遍历所有候选项集\n",
    "        for j in data: #原始数据集得每一条\n",
    "            if inn(i,j):\n",
    "                dic[str(i)] = dic.get(str(i),0) + 1   \n",
    "    conf={}\n",
    "    for i in ck():#遍历所有候选项集\n",
    "    #根据元素个数，判断置信度=num(2个)/num(1个)\n",
    "        for j in ck():\n",
    "            if len(j)>=len(i):\n",
    "                for key,value in conf.items():\n",
    "                    conf[key] = dic[str(j)]/dic[str(i)]\n",
    "                    if conf[key] >= minConf: #判断置信度是否满足最小置信度的要求\n",
    "                        print(j,'\\n',\n",
    "                             'support:',round(supportData[str(j),3]),',',\n",
    "                            'conf:',round(conf[key],3) )\n",
    "                        brl.append((j,round(supportData[str(j)],3),round(conf[key],3))) #把强关联规则追加到 brl\n",
    "    return brl"
   ]
  },
  {
   "cell_type": "code",
   "execution_count": 151,
   "metadata": {},
   "outputs": [],
   "source": [
    "def rulesFromConseq(freqSet, H, supportData, brl, minConf):\n",
    "    Hmp = True  #循环因子\n",
    "    while Hmp: \n",
    "        Hmp = False  #改变循环因子\n",
    "        H = calcConf(freqSet, H, supportData, brl, minConf) #置信度过滤\n",
    "        H = ck(1) #把可以出现在规则右部的元素两两组合\n",
    "        Hmp = not(H == [] or len(H[0]) == len(freqSet)) #判断是否进入下一次循环"
   ]
  },
  {
   "cell_type": "code",
   "execution_count": 152,
   "metadata": {},
   "outputs": [],
   "source": [
    "def generateRules(L, supportData, minConf):\n",
    "    bigRuleList = [] #初始化列表\n",
    "    for i in range(len(L)):\n",
    "        l_1 =L[i]\n",
    "        l_2 =\",\".join(l_1)\n",
    "        Lf =list(eval(l_2))\n",
    "        for freqSet in Lf:\n",
    "            H1 =[frozenset([item]) for item in freqSet]\n",
    "            if (i > 1):\n",
    "                rulesFromConseq(freqSet, H1, supportData, bigRuleList,minConf) #频繁三项集的规则挖掘\n",
    "            else:\n",
    "                calcConf(H1,supportData, bigRuleList, minConf) #频繁二项集的规则挖掘\n",
    "    return bigRuleList"
   ]
  },
  {
   "cell_type": "code",
   "execution_count": 36,
   "metadata": {},
   "outputs": [
    {
     "data": {
      "text/plain": [
       "[[1, 3, 4], [2, 3, 5], [1, 2, 3, 5], [2, 1], [1, 2, 3], [2, 1, 3]]"
      ]
     },
     "execution_count": 36,
     "metadata": {},
     "output_type": "execute_result"
    }
   ],
   "source": [
    "data"
   ]
  },
  {
   "cell_type": "code",
   "execution_count": 44,
   "metadata": {},
   "outputs": [
    {
     "name": "stdout",
     "output_type": "stream",
     "text": [
      "[[1], [2], [3], [4], [5], [1, 2], [1, 3], [1, 4], [1, 5], [2, 1], [2, 3], [2, 5], [3, 4], [3, 5], [1, 2, 3], [1, 2, 5], [1, 3, 4], [1, 3, 5], [2, 1, 3], [2, 3, 5], [1, 2, 3, 5]]\n"
     ]
    }
   ],
   "source": [
    "for i in range(len(L)):\n",
    "    l_1 =L[i]\n",
    "    l_2 =\",\".join(l_1)\n",
    "    Lf =list(eval(l_2))\n",
    "    print(Lf)"
   ]
  },
  {
   "cell_type": "code",
   "execution_count": 150,
   "metadata": {},
   "outputs": [],
   "source": [
    "def calcConf(H, supportData, brl, minConf):\n",
    "    dic={} #候选项集在原始数据中出现个数\n",
    "    supportData=scan(data,base,0.02)[1]\n",
    "    for i in ck():  # 遍历所有候选项集\n",
    "        for j in data: #原始数据集得每一条\n",
    "            if inn(i,j):\n",
    "                dic[str(i)] = dic.get(str(i),0) + 1   \n",
    "    conf={}\n",
    "    for i in ck():#遍历所有候选项集\n",
    "    #根据元素个数，判断置信度=num(2个)/num(1个)\n",
    "         for j in ck():\n",
    "             if len(j)>=len(i) and inn(i,j):\n",
    "                for key,value in conf.items():\n",
    "                    if (str(j) in dic) and (str(i) in dic):\n",
    "                        conf[key] = dic[str(j)]/dic[str(i)]\n",
    "                        if conf[key] >= minConf: #判断置信度是否满足最小置信度的要求\n",
    "                            print(j,'\\n',\n",
    "                                 'support:',round(supportData[str(j),3]),',',\n",
    "                                'conf:',round(conf[key],3) )\n",
    "                            brl.append((j,round(supportData[str(j)],3),round(conf[key],3))) #把强关联规则追加到 brl\n",
    "    return brl       "
   ]
  },
  {
   "cell_type": "code",
   "execution_count": 133,
   "metadata": {},
   "outputs": [
    {
     "data": {
      "text/plain": [
       "1.0"
      ]
     },
     "execution_count": 133,
     "metadata": {},
     "output_type": "execute_result"
    }
   ],
   "source": [
    "conf={}\n",
    "for i in ck():#遍历所有候选项集\n",
    "    for j in ck():\n",
    "        if len(j)>=len(i) and inn(i,j):\n",
    "            if (str(j) in dic) and (str(i) in dic):\n",
    "                conf = dic[str(j)]/dic[str(i)]\n",
    "conf"
   ]
  },
  {
   "cell_type": "code",
   "execution_count": 122,
   "metadata": {},
   "outputs": [
    {
     "data": {
      "text/plain": [
       "True"
      ]
     },
     "execution_count": 122,
     "metadata": {},
     "output_type": "execute_result"
    }
   ],
   "source": [
    "inn([1],[1,2])"
   ]
  },
  {
   "cell_type": "code",
   "execution_count": 176,
   "metadata": {
    "scrolled": true
   },
   "outputs": [
    {
     "name": "stdout",
     "output_type": "stream",
     "text": [
      "('[1]', '-->', '[1]', 'conf:', 1.0)\n",
      "('[1]', '-->', '[1, 2]', 'conf:', 0.4)\n",
      "('[1]', '-->', '[1, 3]', 'conf:', 0.8)\n",
      "('[1]', '-->', '[1, 4]', 'conf:', 0.2)\n",
      "('[1]', '-->', '[1, 5]', 'conf:', 0.2)\n",
      "('[1]', '-->', '[2, 1]', 'conf:', 0.4)\n",
      "('[1]', '-->', '[1, 2, 3]', 'conf:', 0.4)\n",
      "('[1]', '-->', '[1, 2, 5]', 'conf:', 0.2)\n",
      "('[1]', '-->', '[1, 3, 4]', 'conf:', 0.2)\n",
      "('[1]', '-->', '[1, 3, 5]', 'conf:', 0.2)\n",
      "('[1]', '-->', '[2, 1, 3]', 'conf:', 0.2)\n",
      "('[1]', '-->', '[1, 2, 3, 5]', 'conf:', 0.2)\n",
      "('[2]', '-->', '[2]', 'conf:', 1.0)\n",
      "('[2]', '-->', '[1, 2]', 'conf:', 0.4)\n",
      "('[2]', '-->', '[2, 1]', 'conf:', 0.4)\n",
      "('[2]', '-->', '[2, 3]', 'conf:', 0.8)\n",
      "('[2]', '-->', '[2, 5]', 'conf:', 0.4)\n",
      "('[2]', '-->', '[1, 2, 3]', 'conf:', 0.4)\n",
      "('[2]', '-->', '[1, 2, 5]', 'conf:', 0.2)\n",
      "('[2]', '-->', '[2, 1, 3]', 'conf:', 0.2)\n",
      "('[2]', '-->', '[2, 3, 5]', 'conf:', 0.4)\n",
      "('[2]', '-->', '[1, 2, 3, 5]', 'conf:', 0.2)\n",
      "('[3]', '-->', '[3]', 'conf:', 1.0)\n",
      "('[3]', '-->', '[1, 3]', 'conf:', 0.8)\n",
      "('[3]', '-->', '[2, 3]', 'conf:', 0.8)\n",
      "('[3]', '-->', '[3, 4]', 'conf:', 0.2)\n",
      "('[3]', '-->', '[3, 5]', 'conf:', 0.4)\n",
      "('[3]', '-->', '[1, 2, 3]', 'conf:', 0.4)\n",
      "('[3]', '-->', '[1, 3, 4]', 'conf:', 0.2)\n",
      "('[3]', '-->', '[1, 3, 5]', 'conf:', 0.2)\n",
      "('[3]', '-->', '[2, 1, 3]', 'conf:', 0.2)\n",
      "('[3]', '-->', '[2, 3, 5]', 'conf:', 0.4)\n",
      "('[3]', '-->', '[1, 2, 3, 5]', 'conf:', 0.2)\n",
      "('[4]', '-->', '[4]', 'conf:', 1.0)\n",
      "('[4]', '-->', '[1, 4]', 'conf:', 1.0)\n",
      "('[4]', '-->', '[3, 4]', 'conf:', 1.0)\n",
      "('[4]', '-->', '[1, 3, 4]', 'conf:', 1.0)\n",
      "('[5]', '-->', '[5]', 'conf:', 1.0)\n",
      "('[5]', '-->', '[1, 5]', 'conf:', 0.5)\n",
      "('[5]', '-->', '[2, 5]', 'conf:', 1.0)\n",
      "('[5]', '-->', '[3, 5]', 'conf:', 1.0)\n",
      "('[5]', '-->', '[1, 2, 5]', 'conf:', 0.5)\n",
      "('[5]', '-->', '[1, 3, 5]', 'conf:', 0.5)\n",
      "('[5]', '-->', '[2, 3, 5]', 'conf:', 1.0)\n",
      "('[5]', '-->', '[1, 2, 3, 5]', 'conf:', 0.5)\n",
      "('[1, 2]', '-->', '[1, 2]', 'conf:', 1.0)\n",
      "('[1, 2]', '-->', '[1, 2, 3]', 'conf:', 1.0)\n",
      "('[1, 2]', '-->', '[1, 2, 5]', 'conf:', 0.5)\n",
      "('[1, 2]', '-->', '[1, 2, 3, 5]', 'conf:', 0.5)\n",
      "('[1, 3]', '-->', '[1, 3]', 'conf:', 1.0)\n",
      "('[1, 3]', '-->', '[1, 2, 3]', 'conf:', 0.5)\n",
      "('[1, 3]', '-->', '[1, 3, 4]', 'conf:', 0.25)\n",
      "('[1, 3]', '-->', '[1, 3, 5]', 'conf:', 0.25)\n",
      "('[1, 3]', '-->', '[2, 1, 3]', 'conf:', 0.25)\n",
      "('[1, 3]', '-->', '[1, 2, 3, 5]', 'conf:', 0.25)\n",
      "('[1, 4]', '-->', '[1, 4]', 'conf:', 1.0)\n",
      "('[1, 4]', '-->', '[1, 3, 4]', 'conf:', 1.0)\n",
      "('[1, 5]', '-->', '[1, 5]', 'conf:', 1.0)\n",
      "('[1, 5]', '-->', '[1, 2, 5]', 'conf:', 1.0)\n",
      "('[1, 5]', '-->', '[1, 3, 5]', 'conf:', 1.0)\n",
      "('[1, 5]', '-->', '[1, 2, 3, 5]', 'conf:', 1.0)\n",
      "('[2, 1]', '-->', '[2, 1]', 'conf:', 1.0)\n",
      "('[2, 1]', '-->', '[2, 1, 3]', 'conf:', 0.5)\n",
      "('[2, 3]', '-->', '[2, 3]', 'conf:', 1.0)\n",
      "('[2, 3]', '-->', '[1, 2, 3]', 'conf:', 0.5)\n",
      "('[2, 3]', '-->', '[2, 1, 3]', 'conf:', 0.25)\n",
      "('[2, 3]', '-->', '[2, 3, 5]', 'conf:', 0.5)\n",
      "('[2, 3]', '-->', '[1, 2, 3, 5]', 'conf:', 0.25)\n",
      "('[2, 5]', '-->', '[2, 5]', 'conf:', 1.0)\n",
      "('[2, 5]', '-->', '[1, 2, 5]', 'conf:', 0.5)\n",
      "('[2, 5]', '-->', '[2, 3, 5]', 'conf:', 1.0)\n",
      "('[2, 5]', '-->', '[1, 2, 3, 5]', 'conf:', 0.5)\n",
      "('[3, 4]', '-->', '[3, 4]', 'conf:', 1.0)\n",
      "('[3, 4]', '-->', '[1, 3, 4]', 'conf:', 1.0)\n",
      "('[3, 5]', '-->', '[3, 5]', 'conf:', 1.0)\n",
      "('[3, 5]', '-->', '[1, 3, 5]', 'conf:', 0.5)\n",
      "('[3, 5]', '-->', '[2, 3, 5]', 'conf:', 1.0)\n",
      "('[3, 5]', '-->', '[1, 2, 3, 5]', 'conf:', 0.5)\n",
      "('[1, 2, 3]', '-->', '[1, 2, 3]', 'conf:', 1.0)\n",
      "('[1, 2, 3]', '-->', '[1, 2, 3, 5]', 'conf:', 0.5)\n",
      "('[1, 2, 5]', '-->', '[1, 2, 5]', 'conf:', 1.0)\n",
      "('[1, 2, 5]', '-->', '[1, 2, 3, 5]', 'conf:', 1.0)\n",
      "('[1, 3, 4]', '-->', '[1, 3, 4]', 'conf:', 1.0)\n",
      "('[1, 3, 5]', '-->', '[1, 3, 5]', 'conf:', 1.0)\n",
      "('[1, 3, 5]', '-->', '[1, 2, 3, 5]', 'conf:', 1.0)\n",
      "('[2, 1, 3]', '-->', '[2, 1, 3]', 'conf:', 1.0)\n",
      "('[2, 3, 5]', '-->', '[2, 3, 5]', 'conf:', 1.0)\n",
      "('[2, 3, 5]', '-->', '[1, 2, 3, 5]', 'conf:', 0.5)\n",
      "('[1, 2, 3, 5]', '-->', '[1, 2, 3, 5]', 'conf:', 1.0)\n"
     ]
    }
   ],
   "source": [
    "conf={}\n",
    "brl=[]\n",
    "for i in ck():#遍历所有候选项集\n",
    "#根据元素个数，判断置信度=num(2个)/num(1个)\n",
    "     for j in ck():\n",
    "         if len(j)>=len(i) and inn(i,j):\n",
    "                if (str(j) in dic) and (str(i) in dic):\n",
    "                    conf = str(i),'-->',str(j), 'conf:',round((dic[str(j)]/dic[str(i)]),3)\n",
    "                    print(conf)\n",
    "# for w in conf:\n",
    "#     if w >= 0.02: #判断置信度是否满足最小置信度的要求\n",
    "#         print(str(i),'-->',str(j),'\\n',\n",
    "#              'conf:',round(w,3))\n",
    "#         brl.append((i,j,round(w,3)))\n",
    "# brl\n",
    "#         print(j,'\\n',\n",
    "#          #    'support:',round(supportData[str(j),3]),',',\n",
    "#             'conf:',round(w,3) )\n",
    "#         brl.append((j,round(w,3))) #把强关联规则追加到 brl\n",
    "# conf"
   ]
  },
  {
   "cell_type": "code",
   "execution_count": null,
   "metadata": {},
   "outputs": [],
   "source": []
  },
  {
   "cell_type": "code",
   "execution_count": null,
   "metadata": {},
   "outputs": [],
   "source": []
  },
  {
   "cell_type": "code",
   "execution_count": null,
   "metadata": {},
   "outputs": [],
   "source": []
  },
  {
   "cell_type": "code",
   "execution_count": null,
   "metadata": {},
   "outputs": [],
   "source": []
  },
  {
   "cell_type": "code",
   "execution_count": null,
   "metadata": {},
   "outputs": [],
   "source": []
  },
  {
   "cell_type": "code",
   "execution_count": null,
   "metadata": {},
   "outputs": [],
   "source": []
  },
  {
   "cell_type": "code",
   "execution_count": null,
   "metadata": {},
   "outputs": [],
   "source": []
  },
  {
   "cell_type": "code",
   "execution_count": null,
   "metadata": {},
   "outputs": [],
   "source": []
  },
  {
   "cell_type": "code",
   "execution_count": null,
   "metadata": {},
   "outputs": [],
   "source": []
  }
 ],
 "metadata": {
  "kernelspec": {
   "display_name": "Python 3",
   "language": "python",
   "name": "python3"
  },
  "language_info": {
   "codemirror_mode": {
    "name": "ipython",
    "version": 3
   },
   "file_extension": ".py",
   "mimetype": "text/x-python",
   "name": "python",
   "nbconvert_exporter": "python",
   "pygments_lexer": "ipython3",
   "version": "3.8.5"
  }
 },
 "nbformat": 4,
 "nbformat_minor": 4
}
