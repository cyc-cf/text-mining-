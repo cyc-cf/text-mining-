{
 "cells": [
  {
   "cell_type": "code",
   "execution_count": 505,
   "metadata": {},
   "outputs": [],
   "source": [
    "import pandas as pd\n",
    "import collections\n",
    "import numpy as np\n",
    "import itertools"
   ]
  },
  {
   "cell_type": "code",
   "execution_count": 506,
   "metadata": {},
   "outputs": [],
   "source": [
    "#data = [[1, 3, 4], [2, 3, 5], [1, 2, 3, 5], [2, 1], [1, 2, 3]]\n",
    "data = [[1, 3, 4],[2, 3, 5],[1, 2, 3, 5],[2, 1],[1, 2, 3],[2,1,3]]"
   ]
  },
  {
   "cell_type": "code",
   "execution_count": 507,
   "metadata": {},
   "outputs": [],
   "source": [
    "C1=[[i] for i in np.unique(np.concatenate(data).ravel())]"
   ]
  },
  {
   "cell_type": "code",
   "execution_count": 508,
   "metadata": {},
   "outputs": [],
   "source": [
    "#第一候选项集\n",
    "def createC1(data):\n",
    "    C1 = [[i] for i in np.unique(np.concatenate(data).ravel())]\n",
    "    return C1"
   ]
  },
  {
   "cell_type": "code",
   "execution_count": 509,
   "metadata": {},
   "outputs": [],
   "source": [
    "#计算支持度,元素大于等于2个\n",
    "def scan(data,base,minSupport):# 遍历所有候选项集\n",
    "#     ls = []\n",
    "#     for i in range(1,len(base)+1):\n",
    "#         it = itertools.permutations(base,i)\n",
    "#         for j in it:\n",
    "#             ls.append(list(j)) \n",
    "    num = float(len(data))             \n",
    "    dic = {}#候选项集\n",
    "    retList = []#频繁项集\n",
    "    for i in ck():  # 遍历所有候选项集\n",
    "        for j in data:\n",
    "            if inn(i,j):\n",
    "                dic[str(i)] = dic.get(str(i),0) + 1 #出现的个数\n",
    "    dic_support = {}\n",
    "#    for i in base:\n",
    "    for key,value in dic.items():\n",
    "        dic_support[key] = dic[key]/num\n",
    "        if dic_support[key]>= minSupport:\n",
    "            retList.append(key)\n",
    "        else:\n",
    "            dic_support.pop(key)\n",
    "    return retList,dic_support"
   ]
  },
  {
   "cell_type": "code",
   "execution_count": 510,
   "metadata": {
    "scrolled": true
   },
   "outputs": [],
   "source": [
    "#生成所有候选项集(有序的)\n",
    "def ck():\n",
    "    item =[]\n",
    "    for k in range(1,9):\n",
    "        if k==1:\n",
    "            item.extend([item[0] for item in itertools.permutations(C1,1)])\n",
    "        elif k==2:\n",
    "            item.extend([item[0]+item[1] for item in itertools.permutations(C1,2)])\n",
    "        elif k==3:\n",
    "            item.extend([item[0]+item[1]+item[2] for item in itertools.permutations(C1,3)])\n",
    "        elif k==4: \n",
    "            item.extend([item[0]+item[1]+item[2]+item[3] for item in itertools.permutations(C1,4)])   \n",
    "        elif k== 5:\n",
    "            item.extend([item[0]+item[1]+item[2]+item[3]+item[4] for item in itertools.permutations(C1,5)]) \n",
    "        elif k == 6:\n",
    "            item.extend([item[0]+item[1]+item[2]+item[3]+item[4]+item[5] for item in itertools.permutations(C1,6)]) \n",
    "        elif k == 7:\n",
    "            item.extend([item[0]+item[1]+item[2]+item[3]+item[4]+item[5]+item[6] for item in itertools.permutations(C1,7)]) \n",
    "        elif k == 8:\n",
    "            item.extend([item[0]+item[1]+item[2]+item[3]+item[4]+item[5]+item[6]+item[7] for item in itertools.permutations(C1,8)])    \n",
    "    return item"
   ]
  },
  {
   "cell_type": "code",
   "execution_count": 511,
   "metadata": {},
   "outputs": [],
   "source": [
    "#判断候选项集是数据集的子集\n",
    "def inn(ck,ls):\n",
    "    #ck候选项集\n",
    "    #ls  dataset的集合,eg: ls=[1,3,4]、ls=[2,3,5]、ls=[1,2,3,5]...\n",
    "    N = len(ls)#子集的长度\n",
    "    flag = 0\n",
    "    for i in range(2 ** N): #所有的排列组合结果,不应该是N！？？\n",
    "        combo = []\n",
    "        for j in range(N):\n",
    "            if (i >> j) % 2 :   #i右移j位，取余数\n",
    "                combo.append(ls[j])\n",
    "        if ck == combo:\n",
    "            flag += 1\n",
    "        else:\n",
    "            flag += 0\n",
    "    if flag > 0:\n",
    "        return True\n",
    "    else:\n",
    "        return False"
   ]
  },
  {
   "cell_type": "code",
   "execution_count": 512,
   "metadata": {},
   "outputs": [],
   "source": [
    "#得到所有的频繁项集和支持度\n",
    "def apriori(D):\n",
    "#   C1 = createC1(D)#生成候选1-项集\n",
    "    L = [] #存放频繁项集\n",
    "    supportData={}\n",
    "    Lk, supK = scan(data,base,minSupport=0.03)#得到频繁项及和支持度\n",
    "    supportData.update(supK)\n",
    "    L.append(Lk)\n",
    "    return L,supportData"
   ]
  },
  {
   "cell_type": "code",
   "execution_count": 513,
   "metadata": {
    "collapsed": true
   },
   "outputs": [
    {
     "data": {
      "text/plain": [
       "{'[1]': 0.8333333333333334,\n",
       " '[2]': 0.8333333333333334,\n",
       " '[3]': 0.8333333333333334,\n",
       " '[4]': 0.16666666666666666,\n",
       " '[5]': 0.3333333333333333,\n",
       " '[1, 2]': 0.3333333333333333,\n",
       " '[1, 3]': 0.6666666666666666,\n",
       " '[1, 4]': 0.16666666666666666,\n",
       " '[1, 5]': 0.16666666666666666,\n",
       " '[2, 1]': 0.3333333333333333,\n",
       " '[2, 3]': 0.6666666666666666,\n",
       " '[2, 5]': 0.3333333333333333,\n",
       " '[3, 4]': 0.16666666666666666,\n",
       " '[3, 5]': 0.3333333333333333,\n",
       " '[1, 2, 3]': 0.3333333333333333,\n",
       " '[1, 2, 5]': 0.16666666666666666,\n",
       " '[1, 3, 4]': 0.16666666666666666,\n",
       " '[1, 3, 5]': 0.16666666666666666,\n",
       " '[2, 1, 3]': 0.16666666666666666,\n",
       " '[2, 3, 5]': 0.3333333333333333,\n",
       " '[1, 2, 3, 5]': 0.16666666666666666}"
      ]
     },
     "execution_count": 513,
     "metadata": {},
     "output_type": "execute_result"
    }
   ],
   "source": [
    "apriori(data)[1]"
   ]
  },
  {
   "cell_type": "code",
   "execution_count": 515,
   "metadata": {},
   "outputs": [],
   "source": [
    "data = [[1, 3, 4],[2, 3, 5],[1, 2, 3, 5],[2, 1],[1, 2, 3],[2,1,3]]"
   ]
  },
  {
   "cell_type": "code",
   "execution_count": 516,
   "metadata": {},
   "outputs": [
    {
     "data": {
      "text/plain": [
       "[[1], [2], [3], [4], [5]]"
      ]
     },
     "execution_count": 516,
     "metadata": {},
     "output_type": "execute_result"
    }
   ],
   "source": [
    "C1=[[i] for i in np.unique(np.concatenate(data).ravel())]\n",
    "base=C1\n",
    "base"
   ]
  },
  {
   "cell_type": "code",
   "execution_count": 517,
   "metadata": {},
   "outputs": [],
   "source": [
    "freqSet=[1,2,3]\n",
    "conseq=[2]"
   ]
  },
  {
   "cell_type": "code",
   "execution_count": 518,
   "metadata": {},
   "outputs": [
    {
     "data": {
      "text/plain": [
       "'[1, 2, 3]'"
      ]
     },
     "execution_count": 518,
     "metadata": {},
     "output_type": "execute_result"
    }
   ],
   "source": [
    "str(freqSet)"
   ]
  },
  {
   "cell_type": "code",
   "execution_count": 519,
   "metadata": {},
   "outputs": [
    {
     "data": {
      "text/plain": [
       "{'[1]': 0.8,\n",
       " '[2]': 0.8,\n",
       " '[3]': 0.8,\n",
       " '[5]': 0.4,\n",
       " '[1, 2]': 0.4,\n",
       " '[1, 3]': 0.6,\n",
       " '[2, 3]': 0.6,\n",
       " '[2, 5]': 0.4,\n",
       " '[3, 5]': 0.4,\n",
       " '[1, 2, 3]': 0.4,\n",
       " '[2, 3, 5]': 0.4}"
      ]
     },
     "execution_count": 519,
     "metadata": {},
     "output_type": "execute_result"
    }
   ],
   "source": [
    "supportData"
   ]
  },
  {
   "cell_type": "code",
   "execution_count": 570,
   "metadata": {},
   "outputs": [],
   "source": [
    "freqSet=[4,1]"
   ]
  },
  {
   "cell_type": "code",
   "execution_count": 520,
   "metadata": {},
   "outputs": [
    {
     "data": {
      "text/plain": [
       "0.3333333333333333"
      ]
     },
     "execution_count": 520,
     "metadata": {},
     "output_type": "execute_result"
    }
   ],
   "source": [
    "apriori(data)[1][str(freqSet)]"
   ]
  },
  {
   "cell_type": "code",
   "execution_count": 521,
   "metadata": {},
   "outputs": [
    {
     "data": {
      "text/plain": [
       "0.6"
      ]
     },
     "execution_count": 521,
     "metadata": {},
     "output_type": "execute_result"
    }
   ],
   "source": [
    "supportData[str(list(frozenset(freqSet)-frozenset(conseq)))]"
   ]
  },
  {
   "cell_type": "code",
   "execution_count": 522,
   "metadata": {},
   "outputs": [
    {
     "data": {
      "text/plain": [
       "[1, 3]"
      ]
     },
     "execution_count": 522,
     "metadata": {},
     "output_type": "execute_result"
    }
   ],
   "source": [
    "list(frozenset(freqSet)-frozenset(conseq))"
   ]
  },
  {
   "cell_type": "code",
   "execution_count": 566,
   "metadata": {},
   "outputs": [],
   "source": [
    "# #生成关联规则，满足最小置信度\n",
    "# def calcConf(freqSet, H, supportData, brl, minConf):\n",
    "#     supportData = apriori(data)[1]\n",
    "#     prunedH = [] #放置置信度过滤后的可以出现在规则右部的元素列表\n",
    "#     for conseq in H: #对关联规则右部元素列表进行循环\n",
    "#         if len(list(frozenset(freqSet)-frozenset(conseq)))!=0:\n",
    "#             conf = supportData[str(freqSet)]/supportData[str(list(frozenset(freqSet)-frozenset(conseq)))] #计算规则的置信度\n",
    "# #            if str(freqSet)\n",
    "#             if conf >= minConf: #判断置信度是否满足最小置信度的要求\n",
    "#                 print(str(list(frozenset(freqSet)-frozenset(conseq))),'-->',conseq,'\\n',\n",
    "#                       'together support:',round(supportData[str(freqSet)],3),',',\n",
    "#                       'conf:',round(conf,3)) #打印强关联规则\n",
    "#                 brl.append(((str(list(frozenset(freqSet)-frozenset(conseq)))),conseq,round(supportData[str(freqSet)],3),round(conf,3))) #把强关联规则追加到 brl\n",
    "#                 prunedH.append(conseq) #将经过置信度过滤的元素，放入prunedH\n",
    "#     return prunedH "
   ]
  },
  {
   "cell_type": "code",
   "execution_count": 617,
   "metadata": {},
   "outputs": [
    {
     "data": {
      "text/plain": [
       "5"
      ]
     },
     "execution_count": 617,
     "metadata": {},
     "output_type": "execute_result"
    }
   ],
   "source": [
    "dic={} #候选项集\n",
    "for i in ck():  # 遍历所有候选项集\n",
    "    for j in data: #原始数据集得每一条\n",
    "        if inn(i,j):\n",
    "            dic[str(i)] = dic.get(str(i),0) + 1           "
   ]
  },
  {
   "cell_type": "code",
   "execution_count": 643,
   "metadata": {},
   "outputs": [],
   "source": [
    "def calcConf(H, supportData, brl, minConf):\n",
    "    dic={} #候选项集\n",
    "    supportData=scan(data,base,0.02)[1]\n",
    "    for i in ck():  # 遍历所有候选项集\n",
    "        for j in data: #原始数据集得每一条\n",
    "            if inn(i,j):\n",
    "                dic[str(i)] = dic.get(str(i),0) + 1   \n",
    "    conf={}\n",
    "    for i in ck():#遍历所有候选项集\n",
    "    #根据元素个数，判断置信度=num(2个)/num(1个)\n",
    "        for j in ck():\n",
    "            if len(j)>=len(i):\n",
    "                for key,value in conf.items():\n",
    "                    conf[key] = dic[str(j)]/dic[(i)]\n",
    "                    if conf[key] >= minConf: #判断置信度是否满足最小置信度的要求\n",
    "                        print(j,'\\n',\n",
    "                             'support:',round(supportData[str(j),3]),',',\n",
    "                            'conf:',round(conf[key],3) )\n",
    "                        brl.append((j,round(supportData[str(j)],3),round(conf[key],3))) #把强关联规则追加到 brl\n",
    "    return brl"
   ]
  },
  {
   "cell_type": "code",
   "execution_count": 644,
   "metadata": {},
   "outputs": [],
   "source": [
    "def rulesFromConseq(freqSet, H, supportData, brl, minConf):\n",
    "    Hmp = True  #循环因子\n",
    "    while Hmp: \n",
    "        Hmp = False  #改变循环因子\n",
    "        H = calcConf(freqSet, H, supportData, brl, minConf) #置信度过滤\n",
    "        H = ck(1) #把可以出现在规则右部的元素两两组合\n",
    "        Hmp = not(H == [] or len(H[0]) == len(freqSet)) #判断是否进入下一次循环"
   ]
  },
  {
   "cell_type": "code",
   "execution_count": 645,
   "metadata": {},
   "outputs": [],
   "source": [
    "def generateRules(L, supportData, minConf):\n",
    "    bigRuleList = [] #初始化列表\n",
    "    for i in range(len(L)):\n",
    "        l_1 =L[i]\n",
    "        l_2 =\",\".join(l_1)\n",
    "        Lf =list(eval(l_2))\n",
    "        for freqSet in Lf:\n",
    "            H1 =[frozenset([item]) for item in freqSet]\n",
    "            if (i > 1):\n",
    "                rulesFromConseq(freqSet, H1, supportData, bigRuleList,minConf) #频繁三项集的规则挖掘\n",
    "            else:\n",
    "                calcConf(H1,supportData, bigRuleList, minConf) #频繁二项集的规则挖掘\n",
    "    return bigRuleList"
   ]
  },
  {
   "cell_type": "code",
   "execution_count": 646,
   "metadata": {
    "collapsed": true
   },
   "outputs": [
    {
     "data": {
      "text/plain": [
       "[[1],\n",
       " [2],\n",
       " [3],\n",
       " [4],\n",
       " [5],\n",
       " [1, 2],\n",
       " [1, 3],\n",
       " [1, 4],\n",
       " [1, 5],\n",
       " [2, 1],\n",
       " [2, 3],\n",
       " [2, 5],\n",
       " [3, 4],\n",
       " [3, 5],\n",
       " [1, 2, 3],\n",
       " [1, 2, 5],\n",
       " [1, 3, 4],\n",
       " [1, 3, 5],\n",
       " [2, 1, 3],\n",
       " [2, 3, 5],\n",
       " [1, 2, 3, 5]]"
      ]
     },
     "execution_count": 646,
     "metadata": {},
     "output_type": "execute_result"
    }
   ],
   "source": [
    "l_1 =L[0]\n",
    "l_2 =\",\".join(l_1)\n",
    "Lf =list(eval(l_2))\n",
    "Lf"
   ]
  },
  {
   "cell_type": "code",
   "execution_count": 647,
   "metadata": {
    "scrolled": true
   },
   "outputs": [],
   "source": [
    "brl = generateRules(L, S, minConf=0.02) \n",
    "#[[1, 3, 4],[2, 3, 5],[1, 2, 3, 5],[2, 1],[1, 2, 3],[2,1,3]]"
   ]
  },
  {
   "cell_type": "code",
   "execution_count": 648,
   "metadata": {},
   "outputs": [
    {
     "data": {
      "text/plain": [
       "[]"
      ]
     },
     "execution_count": 648,
     "metadata": {},
     "output_type": "execute_result"
    }
   ],
   "source": [
    "brl"
   ]
  },
  {
   "cell_type": "code",
   "execution_count": null,
   "metadata": {},
   "outputs": [],
   "source": []
  },
  {
   "cell_type": "code",
   "execution_count": null,
   "metadata": {},
   "outputs": [],
   "source": []
  },
  {
   "cell_type": "code",
   "execution_count": null,
   "metadata": {},
   "outputs": [],
   "source": []
  },
  {
   "cell_type": "code",
   "execution_count": null,
   "metadata": {},
   "outputs": [],
   "source": []
  },
  {
   "cell_type": "code",
   "execution_count": null,
   "metadata": {},
   "outputs": [],
   "source": []
  },
  {
   "cell_type": "code",
   "execution_count": null,
   "metadata": {},
   "outputs": [],
   "source": []
  },
  {
   "cell_type": "code",
   "execution_count": null,
   "metadata": {},
   "outputs": [],
   "source": []
  },
  {
   "cell_type": "code",
   "execution_count": null,
   "metadata": {},
   "outputs": [],
   "source": []
  }
 ],
 "metadata": {
  "kernelspec": {
   "display_name": "Python 3",
   "language": "python",
   "name": "python3"
  },
  "language_info": {
   "codemirror_mode": {
    "name": "ipython",
    "version": 3
   },
   "file_extension": ".py",
   "mimetype": "text/x-python",
   "name": "python",
   "nbconvert_exporter": "python",
   "pygments_lexer": "ipython3",
   "version": "3.8.5"
  }
 },
 "nbformat": 4,
 "nbformat_minor": 4
}
